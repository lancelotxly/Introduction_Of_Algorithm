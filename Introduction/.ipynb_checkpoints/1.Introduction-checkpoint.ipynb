{
 "cells": [
  {
   "cell_type": "markdown",
   "metadata": {
    "scrolled": true
   },
   "source": [
    "# 第1章 基础知识\n",
    "## 1. 排序算法\n",
    "**定义**：\n",
    "$\n",
    "Input: <a_1,a_2,\\cdots,a_n> \\\\\n",
    "Output: <a_1^{'},a_2^{'},\\cdots,a_n^{'}>, s. t. a_1{'}\\le a_2{'} \\le\\cdots\\le a_n{'}\n",
    "$\n",
    "\n",
    "### 1.1 插入排序\n",
    "$\n",
    "\\textbf{INSERTION-SORT(A)} \\\\\n",
    "1.\\textbf{for} \\quad j = 2 \\quad \\textbf{to}\\quad A.length\\\\\n",
    "2. \\qquad key = A[j] \\\\\n",
    "3. \\qquad i = j - 1 \\\\\n",
    "4.\\qquad\\textbf{while}\\quad i > 0 \\quad\\textbf{and} \\quad A[j] > key\\\\\n",
    "5.\\qquad\\qquad A[i+1] = A[i] \\\\\n",
    "6.\\qquad\\qquad i = i - 1 \\\\\n",
    "7.\\qquad A[i+1]=key\n",
    "$ \n",
    "\n",
    "时间复杂度(time-comsume): $\\Theta(n^2)$，最好$O(n)$,最差$O(n^2)$"
   ]
  },
  {
   "cell_type": "code",
   "execution_count": 1,
   "metadata": {},
   "outputs": [
    {
     "name": "stdout",
     "output_type": "stream",
     "text": [
      "[-25, -23, -22, -16, -7, -5, -4, -3, -3, 7, 12, 13, 15, 18, 20, 20]\n"
     ]
    }
   ],
   "source": [
    "def InsertionSort(data):\n",
    "    data_len = len(data)\n",
    "    for i in range(1,data_len):\n",
    "        key = data[i]\n",
    "        j = i - 1\n",
    "        while j >= 0 and data[j] > key:\n",
    "            data[j+1] = data[j]\n",
    "            j = j - 1\n",
    "        data[j+1] = key\n",
    "    return data\n",
    "\n",
    "if __name__ == \"__main__\":\n",
    "    A = [13,-3,-25,20,-3,-16,-23,18,20,-7,12,-5,-22,15,-4,7]\n",
    "    print(InsertionSort(A))"
   ]
  },
  {
   "cell_type": "markdown",
   "metadata": {},
   "source": [
    "### 1.2 选择排序\n",
    "$\n",
    "\\textbf{SELECTION-SORT(A)} \\\\\n",
    "1.\\textbf{for} \\quad j = 1 \\quad \\textbf{to}\\quad A.length-1\\\\\n",
    "2. \\qquad smallest = j \\\\\n",
    "3. \\qquad \\textbf{for} \\quad i=j+1 \\quad \\textbf{to}\\quad A.length  \\\\\n",
    "4. \\qquad\\qquad \\textbf{if}\\quad A[i] < A[smallest]\\\\\n",
    "5. \\qquad\\qquad\\qquad smallest = i\\\\\n",
    "6.\\qquad \\textbf{exchange}\\quad A[i] \\quad\\textbf{with}\\quad A[smallest]\n",
    "$ \n",
    "\n",
    "时间复杂度(time-comsume): 一直为 $\\Theta(n^2)$"
   ]
  },
  {
   "cell_type": "code",
   "execution_count": 8,
   "metadata": {},
   "outputs": [
    {
     "name": "stdout",
     "output_type": "stream",
     "text": [
      "[-25, -23, -22, -16, -7, -5, -4, -3, -3, 7, 12, 13, 15, 18, 20, 20]\n"
     ]
    }
   ],
   "source": [
    "def SelectionSort(data):\n",
    "    data_len = len(data)\n",
    "    for i in range(0,data_len-1):\n",
    "        smallest = i\n",
    "        for j in range(i+1,data_len):\n",
    "            if data[j] < data[smallest]:\n",
    "                smallest = j\n",
    "        if smallest != i:\n",
    "            data[i], data[smallest] = data[smallest], data[i]\n",
    "    return data\n",
    "\n",
    "if __name__ == \"__main__\":\n",
    "    A = [13,-3,-25,20,-3,-16,-23,18,20,-7,12,-5,-22,15,-4,7]\n",
    "    print(SelectionSort(A))"
   ]
  },
  {
   "cell_type": "markdown",
   "metadata": {},
   "source": [
    "### 1.3 归并排序与分治法\n",
    "**分治法**：将原问题分解为几个规模小，且类似于原问题的子问题；递归地解决子问题；合并子问题的解\n",
    "<img src=\"./Merge.jpg\", width=400, heigth=300>\n",
    "$\n",
    "\\textbf{MERGE_INF(A,start,mid,end)} \\\\\n",
    "1. n_1 = mid - start + 1 \\\\\n",
    "2. n_2 = end - mid + 1 \\\\\n",
    "3. let\\quad L[1,\\cdots,n_1+1]\\quad and \\quad R[1,\\cdots,n_2+1]\\quad be \\quad new \\quad arrarys\\\\\n",
    "4. \\textbf{for}\\quad i=1 \\quad\\textbf{to}\\quad n_1\\\\\n",
    "5. \\qquad L[i] = A[start+i-1]\\\\\n",
    "6. \\textbf{for}\\quad j=1 \\quad \\textbf{to}\\quad n_2\\\\\n",
    "7. \\qquad R[j] = A[mid+j]\\\\\n",
    "8. L[n_1+1] = \\infty\\\\\n",
    "9. R[n_2+1] = \\infty\\\\\n",
    "10. i = 1\\\\\n",
    "11. j = 1 \\\\\n",
    "12.\\textbf{for} \\quad k=start \\quad\\textbf{to} \\quad end\\\\\n",
    "13. \\qquad\\textbf{if}\\quad L[i]\\le R[j]\\\\\n",
    "14.\\qquad\\qquad A[k] = L[i]\\\\\n",
    "15.\\qquad\\qquad i = i + 1\\\\\n",
    "16. \\qquad\\textbf{else}\\quad A[k] = R[j]\\\\\n",
    "17.\\qquad\\qquad j = j + 1\n",
    "$ \n",
    "\n",
    "或者\n",
    "\n",
    "$\n",
    "\\textbf{MERGE(A,start,mid,end)} \\\\\n",
    "1. n_1 = mid - start + 1 \\\\\n",
    "2. n_2 = end - mid + 1 \\\\\n",
    "3. let\\quad L[1,\\cdots,n_1+1]\\quad and \\quad R[1,\\cdots,n_2+1]\\quad be \\quad new \\quad arrarys\\\\\n",
    "4. \\textbf{for}\\quad i=1 \\quad\\textbf{to}\\quad n_1\\\\\n",
    "5. \\qquad L[i] = A[start+i-1]\\\\\n",
    "6. \\textbf{for}\\quad j=1 \\quad \\textbf{to}\\quad n_2\\\\\n",
    "7. \\qquad R[j] = A[mid+j]\\\\\n",
    "8. i = 1\\\\\n",
    "9. j = 1 \\\\\n",
    "10. k = start \\\\\n",
    "11. \\textbf{while}\\quad i \\le L.length \\quad\\textbf{and}\\quad j \\le R.length\\\\\n",
    "12.\\qquad\\textbf{if}\\quad L[i] < R[j]\\\\\n",
    "13.\\qquad\\qquad A[k] = L[i]\\\\\n",
    "14.\\qquad\\qquad i = i + 1\\\\\n",
    "15.\\qquad\\textbf{else}\\quad A[k]=R[j]\\\\\n",
    "16.\\qquad\\qquad j = j + 1\\\\\n",
    "17.\\qquad k = k + 1\\\\\n",
    "18.\\textbf{if}\\quad i == L.length\\\\\n",
    "19.\\qquad\\textbf{for}\\quad p = k \\quad\\textbf{to}\\quad end\\\\\n",
    "20.\\qquad\\qquad A[p]=R[j+p]\\\\\n",
    "21.\\textbf{elif}\\quad j==R.length\\\\\n",
    "22.\\qquad\\textbf{for}\\quad p = k \\quad\\textbf{to}\\quad end\\\\\n",
    "23.\\qquad\\qquad A[p]=L[i+p]\\\\\n",
    "$ \n",
    "\n",
    "\n",
    "时间复杂度(time-comsume): $\\Theta(n)$\n",
    "\n",
    "$\n",
    "\\textbf{MERGE-SORT(A,start,end)}\\\\\n",
    "1.\\textbf{if}\\quad start < end\\\\\n",
    "2.\\quad mid = \\lfloor(start+end)/2\\rfloor\\\\\n",
    "3.\\quad \\textbf{MEGRE-SORT(A,start,mid)}\\\\\n",
    "4.\\quad \\textbf{MEGRE-SORT(A,mid+1,end)}\\\\\n",
    "5.\\quad \\textbf{MERGE_INF(A,start,mid,end)} \\quad\\textbf{or}\\quad \\textbf{MERGE(A,start,mid,end)}\n",
    "$\n",
    "\n",
    "递归式:$$\n",
    "T(n)=\\left\\{  \n",
    "             \\begin{array}{**lr**}  \n",
    "             \\Theta(1), &  n=1\\\\  \n",
    "             2T(n/2)+\\Theta(n),& n > 1 \n",
    "             \\end{array}  \n",
    "\\right.  \n",
    "$$\n",
    "<img src=\"./Generater.jpg\", width=500, heigth=300>\n",
    "\n",
    "时间复杂度(time-comsume):$\\Theta(n\\lg n)$"
   ]
  },
  {
   "cell_type": "code",
   "execution_count": 19,
   "metadata": {},
   "outputs": [
    {
     "name": "stdout",
     "output_type": "stream",
     "text": [
      "[-25, -23, -22, -16, -7, -5, -4, -3, -3, 7, 12, 13, 15, 18, 20, 20]\n"
     ]
    }
   ],
   "source": [
    "import math\n",
    "def Merge_Inf(A,p,q,r):\n",
    "    Inf = float('Inf')\n",
    "    L_array = A[p:q+1]\n",
    "    R_array = A[q+1:r+1]\n",
    "    L_array.append(Inf)\n",
    "    R_array.append(Inf)\n",
    "    i, j = 0, 0\n",
    "    for k in range(p,r+1):\n",
    "        if L_array[i] > R_array[j]:\n",
    "            A[k] = L_array[i]\n",
    "            i = i + 1\n",
    "        else:\n",
    "            A[k] = R_array[j]\n",
    "            j = j + 1\n",
    "\n",
    "def Merge(A,p,q,r):  # No cycle style, because the proceeding include separate and merge, and only the separate recursive has cycle style\n",
    "    L_array = A[p:q+1]\n",
    "    R_array = A[q+1:r+1]\n",
    "    L_length = len(L_array)\n",
    "    R_length = len(R_array)\n",
    "    k = p\n",
    "    i, j = 0, 0\n",
    "    while i < L_length and j < R_length:\n",
    "        if L_array[i] < R_array[j]:\n",
    "            A[k] = L_array[i]\n",
    "            i = i + 1\n",
    "        else:\n",
    "            A[k] = R_array[j]\n",
    "            j = j + 1\n",
    "        k = k + 1\n",
    "    if i == L_length:\n",
    "        A[k:r+1] = R_array[j:R_length]\n",
    "    else:\n",
    "        A[k:r+1] = L_array[i:L_length]\n",
    "\n",
    "def MergeSort(A,p,r):\n",
    "    if p < r:\n",
    "        q = math.floor((p+r)/2)\n",
    "        MergeSort(A,p,q)\n",
    "        MergeSort(A,q+1,r)\n",
    "        # Merge_Inf(A,p,q,r)\n",
    "        Merge(A,p,q,r)\n",
    "    return A\n",
    "if __name__ == \"__main__\":\n",
    "    A = [13,-3,-25,20,-3,-16,-23,18,20,-7,12,-5,-22,15,-4,7]\n",
    "    print(MergeSort(A,0,len(A)-1))"
   ]
  },
  {
   "cell_type": "markdown",
   "metadata": {},
   "source": [
    "## 练习\n",
    "1. $Proof:$ $T(n) = n\\lg n$, where\n",
    "$$\n",
    "T(n)=\\left\\{  \n",
    "             \\begin{array}{**lr**}  \n",
    "             2, &  n=2\\\\  \n",
    "             2T(n/2)+n,& n = 2^k, k> 1 \n",
    "             \\end{array}  \n",
    "\\right.  \n",
    "$$<br>\n",
    "if $k=1$, $T(2)=2=2\\lg2$. Suppose it is true for $k > 1, n = 2^k$, we have\n",
    "\\begin{array}{**lr**}\n",
    "T(2^{k+1}) = 2 T\\left(\\frac{2^{k+1}}{2}\\right) + 2^{k+1} = 2 T(2^k) + 2^{k+1}\\\\\n",
    "= 2(2^k\\lg(2^k))+ 2^{k+1} = (k+1)\\lg(2^{k+1})\\\\\n",
    "= (n+1)\\lg(n+1)\n",
    "\\end{array}\n",
    "<br>\n",
    "\n",
    "2. The time-comsume of recursive insertion sort method can be denoted as\n",
    "$$\n",
    "T(n) = \\left\\{\\begin{array}{**lr**}\n",
    "\\Theta(1), & n = 1\\\\\n",
    "T(n-1)+\\Theta(n), & n > 1\n",
    "\\end{array}\\right.\n",
    "$$\n",
    "where $\\Theta(n)$ denotes the time-consume of inserting $A[n]$ into the sorted arrat $A[1,\\cdots,n-1]$. The total time cost is still $T(n)=\\Theta(n^2)$\n",
    "<br>\n",
    "<br>\n",
    "3. Binary Search\n",
    "<br>\n",
    "**BinSearch(A,start,end,var)**<br>\n",
    "1.$\\textbf{while}$ $start\\le end$<br>\n",
    "2.$\\qquad mid = \\lfloor (start+end)/2 \\rfloor$ <br>\n",
    "3.$\\qquad \\textbf{if} \\ A[mid] == var$ <br>\n",
    "4.$\\qquad\\qquad \\textbf{return}\\  mid $<br> \n",
    "5.$\\qquad \\textbf{elif}\\  A[mid] < var$<br>\n",
    "6.$\\qquad\\qquad start = mid + 1$<br>\n",
    "7.$\\qquad\\textbf{else}: \\ end = mid - 1$<br>\n",
    "Time-comsume: $T(n)=T(n/2)+c$, $T(n) = \\Theta(lgn)$"
   ]
  },
  {
   "cell_type": "code",
   "execution_count": null,
   "metadata": {},
   "outputs": [],
   "source": [
    "def Binary_Search(A,p,r,v):\n",
    "    while p <= r:\n",
    "        q = math.floor((p+r)/2)\n",
    "        if A[q] == v:\n",
    "            return q\n",
    "        elif A[q] < v:\n",
    "            p = q + 1\n",
    "        else:\n",
    "            r = q - 1\n",
    "    return 'Nil'"
   ]
  },
  {
   "cell_type": "markdown",
   "metadata": {},
   "source": [
    "4\\. Desgin a algorithm which can complete a task as following:<br>\n",
    "**Input**: $S$ and $x$, where $S$ is a real-set and $x$ is a real num.<br>\n",
    "**Output**: $a_i,a_j\\in S$ and $a_i + a_j = x$<br>\n",
    "with time-comsume $T(n)=\\Theta\\left(n\\lg n \\right)$\n",
    "\n",
    "**FIND-ITEM(A,var)**<br>\n",
    "1.Use **MERGE-SORT** to sort the array $A$ in $T(n)=\\Theta(n\\lg n)$<br>\n",
    "2.$i=1,j=n$<br> \n",
    "3.$\\textbf{while}\\ i<j$<br>\n",
    "4.$\\qquad sum = A[i]+ A[j]$<br>\n",
    "5.$\\qquad \\textbf{if}\\ sum = S$<br>\n",
    "6.$\\qquad\\qquad \\textbf{return} \\ \\textbf{TRUE}$<br>\n",
    "7.$\\qquad \\textbf{elif}\\ sum < S$<br>\n",
    "8.$\\qquad\\qquad i = i + 1$<br>\n",
    "9.$\\qquad\\textbf{else}: j = j - 1$<br>\n",
    "10.$\\textbf{return} \\ \\textbf{FALSE}$"
   ]
  },
  {
   "cell_type": "code",
   "execution_count": null,
   "metadata": {},
   "outputs": [],
   "source": [
    "def Find_Subitem(data,num):\n",
    "    data_len = len(data)\n",
    "    MergeSort(data,0,data_len-1)\n",
    "    i = 0\n",
    "    j = data_len-1\n",
    "    rep = []\n",
    "    while i < j:\n",
    "        temp = data[i] + data[j]\n",
    "        if temp == num:\n",
    "            rep.append((data[i],data[j],num))\n",
    "            i = i + 1\n",
    "            j = j - 1\n",
    "        elif temp < num:\n",
    "            i = i + 1\n",
    "        elif temp > num:\n",
    "            j = j - 1\n",
    "    return rep"
   ]
  },
  {
   "cell_type": "markdown",
   "metadata": {},
   "source": [
    "5\\. Desgin a algorithm combining **INSERTION-SORT** and **MERGE-SORT**<br>\n",
    "**MERGE-INSERTION-SORT(A,start,end,K)**<br>\n",
    "1.$\\textbf{if}\\ (end-start+1)>K$<br>\n",
    "2.$\\qquad mid = \\lfloor(start+end)/2\\rfloor$<br>\n",
    "3.$\\qquad \\textbf{MERGE-INSERTION-SORT(A,start,mid,K)}$<br>\n",
    "4.$\\qquad \\textbf{MERGE-INSERTION-SORT(A,mid+1,end,K)}$<br>\n",
    "5.$\\qquad \\textbf{INSERTION-K-SORT(A,start,mid,end)}$<br>\n",
    "6.$\\textbf{return A} $\n",
    "<br>\n",
    "Time-consume: $T(n)=\\frac{n}{k}\\Theta(k^2)+n\\lg(n/k) = \\Theta\\left(nk+n\\lg(n/k)\\right)$"
   ]
  },
  {
   "cell_type": "code",
   "execution_count": 2,
   "metadata": {},
   "outputs": [
    {
     "name": "stdout",
     "output_type": "stream",
     "text": [
      "[-25, -23, -22, -16, -7, -5, -4, -3, -3, 7, 12, 13, 15, 18, 20, 20]\n"
     ]
    }
   ],
   "source": [
    "import math\n",
    "def MergeInsertSort(data,start,end,K,reverse=False):\n",
    "    def Insert_K(data,start,end):\n",
    "        for i in range(start+1,end+1):\n",
    "            key = data[i]\n",
    "            j = i - 1\n",
    "            if reverse:\n",
    "                while j >= 0 and data[j] < key:\n",
    "                    data[j+1] = data[j]\n",
    "                    j = j - 1\n",
    "            else:\n",
    "                while j >= 0 and data[j] > key:\n",
    "                    data[j+1] = data[j]\n",
    "                    j = j - 1\n",
    "            data[j+1] = key\n",
    "    if end - start + 1 > K:\n",
    "        mid = math.floor((start+end)/2)\n",
    "        MergeInsertSort(data,start,mid,K,reverse)\n",
    "        MergeInsertSort(data,mid+1,end,K,reverse)\n",
    "        Insert_K(data,start,end)\n",
    "    return data\n",
    "\n",
    "if __name__ == '__main__':\n",
    "    A = [13,-3,-25,20,-3,-16,-23,18,20,-7,12,-5,-22,15,-4,7]\n",
    "    rep = MergeInsertSort(A,0,len(A)-1,3)\n",
    "    print(rep)"
   ]
  },
  {
   "cell_type": "markdown",
   "metadata": {},
   "source": [
    "6\\. **BUBBLE-SORT(A)**<br>\n",
    "1.$\\textbf{for}\\ i=1 \\textbf{to} \\ A.length-1$<br>\n",
    "2.$\\qquad \\textbf{for} \\ j=A.length \\ \\textbf{downto} \\  i + 1$<br>\n",
    "3.$\\qquad\\qquad \\textbf{if} A[j] < A[j-1]$<br>\n",
    "4.$\\qquad\\qquad\\qquad \\textbf{exchange} \\ A[j] \\ with A[j-1]$\n",
    "<br>\n",
    "Time-consume: $T(n) = \\Theta(n^2)$"
   ]
  },
  {
   "cell_type": "code",
   "execution_count": 6,
   "metadata": {},
   "outputs": [
    {
     "name": "stdout",
     "output_type": "stream",
     "text": [
      "[-25, -23, -22, -16, -7, -5, -4, -3, -3, 7, 12, 13, 15, 18, 20, 20]\n"
     ]
    }
   ],
   "source": [
    "def BubbleSort(A):\n",
    "    A_len = len(A)\n",
    "    for i in range(0,A_len-1):\n",
    "        for j in range(A_len-1,i,-1):\n",
    "            if A[j] < A[j-1]:\n",
    "                A[j],A[j-1] = A[j-1],A[j]\n",
    "    return A           \n",
    "\n",
    "if __name__ == '__main__':\n",
    "    A = [13,-3,-25,20,-3,-16,-23,18,20,-7,12,-5,-22,15,-4,7]\n",
    "    rep = BubbleSort(A)\n",
    "    print(rep)"
   ]
  },
  {
   "cell_type": "markdown",
   "metadata": {},
   "source": [
    "7\\. **Inversion**:\n",
    "* Definition: for $A[1,\\cdots,n]$, if $i<j$ and $A[i] > A[j]$, then $(i,j)$ is an inversion couple.\n",
    "* Example: for $<2,3,8,6,1>$, the inversion couples are $(2,1),(3,1),(8,6),(8,1),(6,1)$\n",
    "* Relation between **Inversion** and **INSERTION-SORT**: $\\sum\\limits_{i=1}^{n}I(i)$ where $I(j)$ is the number of inversion-couple for $j=i$, which will influence the performance of **INSERTION-SORT**\n",
    "* For $A[1,\\cdots,n]$, the maximum of inversion-couple is $\\frac{n(n-1)}{2}$\n",
    "\n",
    "\n",
    "**FIND-INVERSION(A,start,end)**<br>\n",
    "1.$\\textbf{if}\\ start < end$<br>\n",
    "2.$\\qquad mid = \\lfloor(start+end)/2\\rfloor$<br>\n",
    "3.$\\qquad left = \\textbf{FIND-INVERSION(A,start,mid)}$<br>\n",
    "4.$\\qquad right = \\textbf{FIND-INVERSION(A,mid+1,end)}$<br>\n",
    "5.$\\qquad inv = \\textbf{MERGE-INVERSION(A,start,mid,end)}$<br>\n",
    "6.$\\qquad \\textbf{return} \\ inv+right+left$<br>\n",
    "7.$\\textbf{return}\\ 0$\n",
    "\n",
    "**MERGE-INVERSION(A,start,mid,end)**<br>\n",
    "1.$inv=0,i=1,j=1,k=start$<br>\n",
    "2.let $L[1,\\cdots,n]$ and $R[1,\\cdots,n]$ be new arrays<br>\n",
    "3.$L\\gets A[start:mid]$ and $R\\gets A[mid+1:end]$<br>\n",
    "4.$\\textbf{while} i < L.length\\  \\textbf{and}\\  j < R.length$<br>\n",
    "5.$\\qquad\\textbf{if} \\ L[i]\\le R[j]$<br>\n",
    "6.$\\qquad\\qquad A[k]=L[i]$<br>\n",
    "7.$\\qquad\\qquad i = i + 1$<br>\n",
    "8.$\\qquad\\textbf{else}: $<br>\n",
    "9.$\\qquad\\qquad A[k] = R[j]$<br>\n",
    "10.$\\qquad\\qquad inv = inv + L.length - i + 1$<br>\n",
    "11.$\\qquad\\qquad j = j + 1$<br>\n",
    "12.$\\qquad k = k + 1$<br>\n",
    "13.$\\textbf{if} \\ i == L.length+1$<br>\n",
    "14.$\\qquad A[k:end+1] \\gets R[j:R.length+1]$<br>\n",
    "15.$\\textbf{else}$<br>\n",
    "16.$\\qquad A[k:end+1]\\gets L[i:L.length+1]$<br>\n"
   ]
  },
  {
   "cell_type": "code",
   "execution_count": 8,
   "metadata": {},
   "outputs": [
    {
     "name": "stdout",
     "output_type": "stream",
     "text": [
      "59\n"
     ]
    }
   ],
   "source": [
    "def Find_Inversion(data,start,end):\n",
    "    def Merge_Inversion(data,start,mid,end):\n",
    "        inv = 0\n",
    "        L_array = data[start:mid+1]\n",
    "        R_array = data[mid+1:end+1]\n",
    "        L_len = len(L_array)\n",
    "        R_len = len(R_array)\n",
    "        i,j = 0, 0\n",
    "        k = start\n",
    "        while i < L_len and j < R_len:\n",
    "            if L_array[i] <= R_array[j]:\n",
    "                data[k] = L_array[i]\n",
    "                i = i + 1\n",
    "            else:\n",
    "                data[k] = R_array[j]\n",
    "                inv = inv + L_len - i\n",
    "                j = j + 1\n",
    "            k = k + 1\n",
    "        if i == L_len:\n",
    "            data[k:end+1] = R_array[j:R_len]\n",
    "        elif j == R_len:\n",
    "            data[k:end+1] = L_array[i:L_len]\n",
    "        return inv\n",
    "\n",
    "    if start < end:\n",
    "        mid = math.floor((start+end)/2)\n",
    "        left = Find_Inversion(data,start,mid)\n",
    "        right = Find_Inversion(data,mid+1,end)\n",
    "        inv = Merge_Inversion(data,start,mid,end)\n",
    "        return inv + left + right\n",
    "    return 0\n",
    "\n",
    "if __name__ == '__main__':\n",
    "    A = [13,-3,-25,20,-3,-16,-23,18,20,-7,12,-5,-22,15,-4,7]\n",
    "#     A  = list(range(100,0,-1))\n",
    "    rep = Find_Inversion(A,0,len(A)-1)\n",
    "    print(rep)"
   ]
  }
 ],
 "metadata": {
  "kernelspec": {
   "display_name": "Python 3",
   "language": "python",
   "name": "python3"
  },
  "language_info": {
   "codemirror_mode": {
    "name": "ipython",
    "version": 3
   },
   "file_extension": ".py",
   "mimetype": "text/x-python",
   "name": "python",
   "nbconvert_exporter": "python",
   "pygments_lexer": "ipython3",
   "version": "3.6.4"
  }
 },
 "nbformat": 4,
 "nbformat_minor": 2
}
