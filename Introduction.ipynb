{
 "cells": [
  {
   "cell_type": "markdown",
   "metadata": {
    "scrolled": true
   },
   "source": [
    "# 第1章 基础知识\n",
    "## 1. 排序算法\n",
    "**定义**：\n",
    "$\n",
    "Input: <a_1,a_2,\\cdots,a_n> \\\\\n",
    "Output: <a_1^{'},a_2^{'},\\cdots,a_n^{'}>, s. t. a_1{'}\\le a_2{'} \\le\\cdots\\le a_n{'}\n",
    "$\n",
    "\n",
    "### 1.1 插入排序\n",
    "$\n",
    "\\textbf{INSERTION-SORT(A)} \\\\\n",
    "1.\\textbf{for} \\quad j = 2 \\quad \\textbf{to}\\quad A.length\\\\\n",
    "2. \\qquad key = A[j] \\\\\n",
    "3. \\qquad i = j - 1 \\\\\n",
    "4.\\qquad\\textbf{while}\\quad i > 0 \\quad\\textbf{and} \\quad A[j] > key\\\\\n",
    "5.\\qquad\\qquad A[i+1] = A[i] \\\\\n",
    "6.\\qquad\\qquad i = i - 1 \\\\\n",
    "7.\\qquad A[i+1]=key\n",
    "$ \n",
    "\n",
    "时间复杂度(time-comsume): $\\Theta(n^2)$，最好$O(n)$,最差$O(n^2)$"
   ]
  },
  {
   "cell_type": "code",
   "execution_count": 1,
   "metadata": {},
   "outputs": [
    {
     "name": "stdout",
     "output_type": "stream",
     "text": [
      "[-25, -23, -22, -16, -7, -5, -4, -3, -3, 7, 12, 13, 15, 18, 20, 20]\n"
     ]
    }
   ],
   "source": [
    "def InsertionSort(data):\n",
    "    data_len = len(data)\n",
    "    for i in range(1,data_len):\n",
    "        key = data[i]\n",
    "        j = i - 1\n",
    "        while j >= 0 and data[j] > key:\n",
    "            data[j+1] = data[j]\n",
    "            j = j - 1\n",
    "        data[j+1] = key\n",
    "    return data\n",
    "\n",
    "if __name__ == \"__main__\":\n",
    "    A = [13,-3,-25,20,-3,-16,-23,18,20,-7,12,-5,-22,15,-4,7]\n",
    "    print(InsertionSort(A))"
   ]
  },
  {
   "cell_type": "markdown",
   "metadata": {},
   "source": [
    "### 1.2 选择排序\n",
    "$\n",
    "\\textbf{SELECTION-SORT(A)} \\\\\n",
    "1.\\textbf{for} \\quad j = 1 \\quad \\textbf{to}\\quad A.length-1\\\\\n",
    "2. \\qquad smallest = j \\\\\n",
    "3. \\qquad \\textbf{for} \\quad i=j+1 \\quad \\textbf{to}\\quad A.length  \\\\\n",
    "4. \\qquad\\qquad \\textbf{if}\\quad A[i] < A[smallest]\\\\\n",
    "5. \\qquad\\qquad\\qquad smallest = i\\\\\n",
    "6.\\qquad \\textbf{exchange}\\quad A[i] \\quad\\textbf{with}\\quad A[smallest]\n",
    "$ \n",
    "\n",
    "时间复杂度(time-comsume): 一直为 $\\Theta(n^2)$"
   ]
  },
  {
   "cell_type": "code",
   "execution_count": 8,
   "metadata": {},
   "outputs": [
    {
     "name": "stdout",
     "output_type": "stream",
     "text": [
      "[-25, -23, -22, -16, -7, -5, -4, -3, -3, 7, 12, 13, 15, 18, 20, 20]\n"
     ]
    }
   ],
   "source": [
    "def SelectionSort(data):\n",
    "    data_len = len(data)\n",
    "    for i in range(0,data_len-1):\n",
    "        smallest = i\n",
    "        for j in range(i+1,data_len):\n",
    "            if data[j] < data[smallest]:\n",
    "                smallest = j\n",
    "        if smallest != i:\n",
    "            data[i], data[smallest] = data[smallest], data[i]\n",
    "    return data\n",
    "\n",
    "if __name__ == \"__main__\":\n",
    "    A = [13,-3,-25,20,-3,-16,-23,18,20,-7,12,-5,-22,15,-4,7]\n",
    "    print(SelectionSort(A))"
   ]
  },
  {
   "cell_type": "markdown",
   "metadata": {},
   "source": [
    "### 1.3 归并排序与分治法\n",
    "**分治法**：将原问题分解为几个规模小，且类似于原问题的子问题；递归地解决子问题；合并子问题的解\n",
    "<img src=\"./Merge.jpg\", width=400, heigth=300>\n",
    "$\n",
    "\\textbf{MERGE_INF(A,start,mid,end)} \\\\\n",
    "1. n_1 = mid - start + 1 \\\\\n",
    "2. n_2 = end - mid + 1 \\\\\n",
    "3. let\\quad L[1,\\cdots,n_1+1]\\quad and \\quad R[1,\\cdots,n_2+1]\\quad be \\quad new \\quad arrarys\\\\\n",
    "4. \\textbf{for}\\quad i=1 \\quad\\textbf{to}\\quad n_1\\\\\n",
    "5. \\qquad L[i] = A[start+i-1]\\\\\n",
    "6. \\textbf{for}\\quad j=1 \\quad \\textbf{to}\\quad n_2\\\\\n",
    "7. \\qquad R[j] = A[mid+j]\\\\\n",
    "8. L[n_1+1] = \\infty\\\\\n",
    "9. R[n_2+1] = \\infty\\\\\n",
    "10. i = 1\\\\\n",
    "11. j = 1 \\\\\n",
    "12.\\textbf{for} \\quad k=start \\quad\\textbf{to} \\quad end\\\\\n",
    "13. \\qquad\\textbf{if}\\quad L[i]\\le R[j]\\\\\n",
    "14.\\qquad\\qquad A[k] = L[i]\\\\\n",
    "15.\\qquad\\qquad i = i + 1\\\\\n",
    "16. \\qquad\\textbf{else}\\quad A[k] = R[j]\\\\\n",
    "17.\\qquad\\qquad j = j + 1\n",
    "$ \n",
    "\n",
    "或者\n",
    "\n",
    "$\n",
    "\\textbf{MERGE(A,start,mid,end)} \\\\\n",
    "1. n_1 = mid - start + 1 \\\\\n",
    "2. n_2 = end - mid + 1 \\\\\n",
    "3. let\\quad L[1,\\cdots,n_1+1]\\quad and \\quad R[1,\\cdots,n_2+1]\\quad be \\quad new \\quad arrarys\\\\\n",
    "4. \\textbf{for}\\quad i=1 \\quad\\textbf{to}\\quad n_1\\\\\n",
    "5. \\qquad L[i] = A[start+i-1]\\\\\n",
    "6. \\textbf{for}\\quad j=1 \\quad \\textbf{to}\\quad n_2\\\\\n",
    "7. \\qquad R[j] = A[mid+j]\\\\\n",
    "8. i = 1\\\\\n",
    "9. j = 1 \\\\\n",
    "10. k = start \\\\\n",
    "11. \\textbf{while}\\quad i \\le L.length \\quad\\textbf{and}\\quad j \\le R.length\\\\\n",
    "12.\\qquad\\textbf{if}\\quad L[i] < R[j]\\\\\n",
    "13.\\qquad\\qquad A[k] = L[i]\\\\\n",
    "14.\\qquad\\qquad i = i + 1\\\\\n",
    "15.\\qquad\\textbf{else}\\quad A[k]=R[j]\\\\\n",
    "16.\\qquad\\qquad j = j + 1\\\\\n",
    "17.\\qquad k = k + 1\\\\\n",
    "18.\\textbf{if}\\quad i == L.length\\\\\n",
    "19.\\qquad\\textbf{for}\\quad p = k \\quad\\textbf{to}\\quad end\\\\\n",
    "20.\\qquad\\qquad A[p]=R[j+p]\\\\\n",
    "21.\\textbf{elif}\\quad j==R.length\\\\\n",
    "22.\\qquad\\textbf{for}\\quad p = k \\quad\\textbf{to}\\quad end\\\\\n",
    "23.\\qquad\\qquad A[p]=L[i+p]\\\\\n",
    "$ \n",
    "\n",
    "\n",
    "时间复杂度(time-comsume): $\\Theta(n)$\n",
    "\n",
    "$\n",
    "\\textbf{MERGE-SORT(A,start,end)}\\\\\n",
    "1.\\textbf{if}\\quad start < end\\\\\n",
    "2.\\quad mid = \\lfloor(start+end)/2\\rfloor\\\\\n",
    "3.\\quad \\textbf{MEGRE-SORT(A,start,mid)}\\\\\n",
    "4.\\quad \\textbf{MEGRE-SORT(A,mid+1,end)}\\\\\n",
    "5.\\quad \\textbf{MERGE_INF(A,start,mid,end)} \\quad\\textbf{or}\\quad \\textbf{MERGE(A,start,mid,end)}\n",
    "$\n",
    "\n",
    "递归式:$$\n",
    "T(n)=\\left\\{  \n",
    "             \\begin{array}{**lr**}  \n",
    "             \\Theta(1), &  n=1\\\\  \n",
    "             2T(n/2)+\\Theta(n),& n > 1 \n",
    "             \\end{array}  \n",
    "\\right.  \n",
    "$$\n",
    "<img src=\"./Generater.jpg\", width=500, heigth=300>\n",
    "\n",
    "时间复杂度(time-comsume):$\\Theta(n\\lg n)$"
   ]
  },
  {
   "cell_type": "code",
   "execution_count": 19,
   "metadata": {},
   "outputs": [
    {
     "name": "stdout",
     "output_type": "stream",
     "text": [
      "[-25, -23, -22, -16, -7, -5, -4, -3, -3, 7, 12, 13, 15, 18, 20, 20]\n"
     ]
    }
   ],
   "source": [
    "import math\n",
    "def Merge_Inf(A,p,q,r):\n",
    "    Inf = float('Inf')\n",
    "    L_array = A[p:q+1]\n",
    "    R_array = A[q+1:r+1]\n",
    "    L_array.append(Inf)\n",
    "    R_array.append(Inf)\n",
    "    i, j = 0, 0\n",
    "    for k in range(p,r+1):\n",
    "        if L_array[i] > R_array[j]:\n",
    "            A[k] = L_array[i]\n",
    "            i = i + 1\n",
    "        else:\n",
    "            A[k] = R_array[j]\n",
    "            j = j + 1\n",
    "\n",
    "def Merge(A,p,q,r):  # No cycle style, because the proceeding include separate and merge, and only the separate recursive has cycle style\n",
    "    L_array = A[p:q+1]\n",
    "    R_array = A[q+1:r+1]\n",
    "    L_length = len(L_array)\n",
    "    R_length = len(R_array)\n",
    "    k = p\n",
    "    i, j = 0, 0\n",
    "    while i < L_length and j < R_length:\n",
    "        if L_array[i] < R_array[j]:\n",
    "            A[k] = L_array[i]\n",
    "            i = i + 1\n",
    "        else:\n",
    "            A[k] = R_array[j]\n",
    "            j = j + 1\n",
    "        k = k + 1\n",
    "    if i == L_length:\n",
    "        A[k:r+1] = R_array[j:R_length]\n",
    "    else:\n",
    "        A[k:r+1] = L_array[i:L_length]\n",
    "\n",
    "def MergeSort(A,p,r):\n",
    "    if p < r:\n",
    "        q = math.floor((p+r)/2)\n",
    "        MergeSort(A,p,q)\n",
    "        MergeSort(A,q+1,r)\n",
    "        # Merge_Inf(A,p,q,r)\n",
    "\n",
    "        Merge(A,p,q,r)\n",
    "    return A\n",
    "if __name__ == \"__main__\":\n",
    "    A = [13,-3,-25,20,-3,-16,-23,18,20,-7,12,-5,-22,15,-4,7]\n",
    "    print(MergeSort(A,0,len(A)-1))"
   ]
  }
 ],
 "metadata": {
  "kernelspec": {
   "display_name": "Python 3",
   "language": "python",
   "name": "python3"
  },
  "language_info": {
   "codemirror_mode": {
    "name": "ipython",
    "version": 3
   },
   "file_extension": ".py",
   "mimetype": "text/x-python",
   "name": "python",
   "nbconvert_exporter": "python",
   "pygments_lexer": "ipython3",
   "version": "3.6.4"
  }
 },
 "nbformat": 4,
 "nbformat_minor": 2
}
